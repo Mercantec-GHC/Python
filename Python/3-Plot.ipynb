{
 "cells": [
  {
   "cell_type": "markdown",
   "metadata": {},
   "source": [
    "# Visualisering af data - MatPlotLib og Seaborn\n",
    "\n",
    "I løbet af forløbet skal vi arbejde med at visualisere data fra forskellige kilder. Her kommer et par eksempler på hvordan vi kan bruger vores fortrukne pakker [MatPlotLib](https://matplotlib.org/) og [Seaborn](https://seaborn.pydata.org/examples/index.html)  \n",
    "\n",
    "<img src=\"../Assets/PLT-plots.png\">\n",
    "\n",
    "<details>\n",
    "<summary>Kode for diagram </summary>\n",
    "\n",
    "```Python\n",
    "import numpy as np\n",
    "import matplotlib.pyplot as plt\n",
    "import seaborn as sns\n",
    "import pandas as pd\n",
    "\n",
    "# Your original data\n",
    "data = {'apple': 10, 'orange': 15, 'lemon': 5, 'lime': 20}\n",
    "names = list(data.keys())\n",
    "values = list(data.values())\n",
    "\n",
    "# Adjusting the subplot layout to fit the additional plots\n",
    "fig, axs = plt.subplots(2, 4, figsize=(12, 6))\n",
    "fig.tight_layout(pad=5.0)\n",
    "\n",
    "# Bar plot on the first row, first column\n",
    "axs[0, 0].bar(names, values)\n",
    "axs[0, 0].set_title('Bar Plot')\n",
    "\n",
    "# Scatter plot on the first row, second column\n",
    "axs[0, 1].scatter(names, values)\n",
    "axs[0, 1].set_title('Scatter Plot')\n",
    "\n",
    "# Line plot on the first row, third column\n",
    "axs[0, 2].plot(names, values)\n",
    "axs[0, 2].set_title('Line Plot')\n",
    "\n",
    "# Pie chart on the first row, fourth column\n",
    "axs[0, 3].pie(values, labels=names, autopct='%1.1f%%', startangle=90)\n",
    "axs[0, 3].set_title('Pie Chart')\n",
    "\n",
    "# Histogram on the second row, first column\n",
    "axs[1, 0].hist(values, bins='auto') # Using 'auto' for automatic bin calculation\n",
    "axs[1, 0].set_title('Histogram')\n",
    "\n",
    "# Box plot on the second row, second column\n",
    "axs[1, 1].boxplot([values]*len(names), patch_artist=True) # Repeat values for each category\n",
    "axs[1, 1].set_title('Box Plot')\n",
    "\n",
    "# Stem plot on the second row, third column\n",
    "axs[1, 2].stem(values, markerfmt=\"o\", basefmt=\"-b\") # Customizing markers and lines\n",
    "axs[1, 2].set_title('Stem Plot')\n",
    "\n",
    "# Create a DataFrame for the heatmap\n",
    "df_heatmap = pd.DataFrame(values, index=names, columns=['Counts'])\n",
    "\n",
    "# Plotting the heatmap\n",
    "sns.heatmap(df_heatmap, cmap=\"YlGnBu\", annot=True, fmt=\".2f\")\n",
    "axs[1, 3].set_title('Heatmap')\n",
    "\n",
    "fig.suptitle('Categorical Plotting')\n",
    "plt.show()\n",
    "\n",
    "```\n",
    "</details>"
   ]
  },
  {
   "cell_type": "markdown",
   "metadata": {},
   "source": [
    "Der findes rigtig mange eksempler på hvordan man bruger de forskellige plots, grafer og maps. For MatPlotLib er de hentet ned under følgende [PLTExamples](./PLTExamples).\n",
    "\n",
    "For Seaborn findes de online her - [SeabornExamples](https://seaborn.pydata.org/examples)\n",
    "\n",
    "Vi har taget nogle specifikke eksempler ud som vi forventer at I kan komme til at bruge på forløbet her!"
   ]
  },
  {
   "cell_type": "markdown",
   "metadata": {},
   "source": [
    "## Histogram - MatPlotLib\n",
    "\n",
    "Her ser vi et standart Histogram. Histogram er en af de mest standart plot vi bruger. Den viser bare frekvensen af vores data, her kan man få et godt overblik over fordelingen af vores data!"
   ]
  },
  {
   "cell_type": "code",
   "execution_count": null,
   "metadata": {},
   "outputs": [],
   "source": [
    "import matplotlib.pyplot as plt\n",
    "\n",
    "fig, ax = plt.subplots()\n",
    "\n",
    "fruits = ['apple', 'blueberry', 'cherry', 'orange']\n",
    "counts = [40, 100, 30, 55]\n",
    "bar_labels = ['red', 'blue', '_red', 'orange']\n",
    "bar_colors = ['tab:red', 'tab:blue', 'tab:red', 'tab:orange']\n",
    "\n",
    "ax.bar(fruits, counts, label=bar_labels, color=bar_colors)\n",
    "\n",
    "ax.set_ylabel('fruit supply')\n",
    "ax.set_title('Fruit supply by kind and color')\n",
    "ax.legend(title='Fruit color')\n",
    "\n",
    "plt.show()"
   ]
  },
  {
   "cell_type": "markdown",
   "metadata": {},
   "source": [
    "## Piechart - MatPlotLib\n",
    "\n",
    "Piechart eller cirkeldiagram er rigtig gode til at vise %-vis fordelingen i et datasæt. "
   ]
  },
  {
   "cell_type": "code",
   "execution_count": null,
   "metadata": {},
   "outputs": [],
   "source": [
    "import matplotlib.pyplot as plt\n",
    "import numpy as np\n",
    "\n",
    "fig, ax = plt.subplots(figsize=(6, 3), subplot_kw=dict(aspect=\"equal\"))\n",
    "\n",
    "recipe = [\"375 g flour\",\n",
    "          \"75 g sugar\",\n",
    "          \"250 g butter\",\n",
    "          \"300 g berries\"]\n",
    "\n",
    "data = [float(x.split()[0]) for x in recipe]\n",
    "ingredients = [x.split()[-1] for x in recipe]\n",
    "\n",
    "\n",
    "def func(pct, allvals):\n",
    "    absolute = int(np.round(pct/100.*np.sum(allvals)))\n",
    "    return f\"{pct:.1f}%\\n({absolute:d} g)\"\n",
    "\n",
    "\n",
    "wedges, texts, autotexts = ax.pie(data, autopct=lambda pct: func(pct, data),\n",
    "                                  textprops=dict(color=\"w\"))\n",
    "\n",
    "ax.legend(wedges, ingredients,\n",
    "          title=\"Ingredients\",\n",
    "          loc=\"center left\",\n",
    "          bbox_to_anchor=(1, 0, 0.5, 1))\n",
    "\n",
    "plt.setp(autotexts, size=8, weight=\"bold\")\n",
    "\n",
    "ax.set_title(\"Matplotlib bakery: A pie\")\n",
    "\n",
    "plt.show()"
   ]
  },
  {
   "cell_type": "markdown",
   "metadata": {},
   "source": [
    "## Heatmap - Seaborn\n",
    "\n",
    "Heatmaps er rigtig gode til at finde sammenhæng på data i et matrix-format, specielt er det smart at man kan gå 3-dimensionel. y, x og z.  \n",
    "\n",
    "Herunder er der et eksempel på hvordan man kan bruge det til at se sammenhæng mellem fly med y værende måned, x værende år og z værende antal passagere. Det giver os et indblik at der generelt er flere passagere om sommeren og at det stiger meget pr år!"
   ]
  },
  {
   "cell_type": "code",
   "execution_count": null,
   "metadata": {},
   "outputs": [],
   "source": [
    "import matplotlib.pyplot as plt\n",
    "import seaborn as sns\n",
    "sns.set_theme()\n",
    "\n",
    "# Load the example flights dataset and convert to long-form\n",
    "flights_long = sns.load_dataset(\"flights\")\n",
    "flights = (\n",
    "    flights_long\n",
    "    .pivot(index=\"month\", columns=\"year\", values=\"passengers\")\n",
    ")\n",
    "\n",
    "# Draw a heatmap with the numeric values in each cell\n",
    "f, ax = plt.subplots(figsize=(9, 6))\n",
    "sns.heatmap(flights, annot=True, fmt=\"d\", linewidths=.5, ax=ax)"
   ]
  },
  {
   "cell_type": "markdown",
   "metadata": {},
   "source": [
    "## Scatter - PLT\n",
    "\n",
    "Vi kan bruge et scatter plot til at visualisere alle datapunkter i et datasæt. Der giver os et godt overblik over fordelingen af hvert enkelt datapunkt, herfra kan man se outliers og den generelle fordeling af hvert punkt. Udover det kan man lave ting som trendlines for at få et bedre indblik i datasættet."
   ]
  },
  {
   "cell_type": "code",
   "execution_count": null,
   "metadata": {},
   "outputs": [],
   "source": [
    "import matplotlib.pyplot as plt\n",
    "\n",
    "#define data\n",
    "x = np.array([8, 13, 14, 15, 15, 20, 25, 30, 38, 40])\n",
    "y = np.array([5, 4, 18, 14, 20, 24, 28, 33, 30, 37])\n",
    "\n",
    "#create scatterplot\n",
    "plt.scatter(x, y)\n",
    "\n",
    "#calculate equation for trendline\n",
    "z = np.polyfit(x, y, 1)\n",
    "p = np.poly1d(z)\n",
    "\n",
    "#add trendline to plot\n",
    "plt.plot(x, p(x))"
   ]
  },
  {
   "cell_type": "markdown",
   "metadata": {},
   "source": [
    "#"
   ]
  }
 ],
 "metadata": {
  "kernelspec": {
   "display_name": "Python 3",
   "language": "python",
   "name": "python3"
  },
  "language_info": {
   "codemirror_mode": {
    "name": "ipython",
    "version": 3
   },
   "file_extension": ".py",
   "mimetype": "text/x-python",
   "name": "python",
   "nbconvert_exporter": "python",
   "pygments_lexer": "ipython3",
   "version": "3.11.9"
  }
 },
 "nbformat": 4,
 "nbformat_minor": 2
}
