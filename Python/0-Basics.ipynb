{
 "cells": [
  {
   "cell_type": "markdown",
   "metadata": {},
   "source": [
    "# Python grundkoncepter\n",
    "\n",
    "Her har I eksempler på grundkoncepter inden for Python. Det dækker over kontrolflow, Loops og funktioner"
   ]
  },
  {
   "cell_type": "markdown",
   "metadata": {},
   "source": [
    "## Varaibler\n",
    "Python er dynamisk, det betyder at vi ikke behøver at skrive hvilken type variable som vi assigner."
   ]
  },
  {
   "cell_type": "code",
   "execution_count": null,
   "metadata": {},
   "outputs": [],
   "source": [
    "NyVariable = \"Jeg er en streng\"\n",
    "Nyt_tal = 42"
   ]
  },
  {
   "cell_type": "markdown",
   "metadata": {},
   "source": [
    "Variable er case-sensitive som man kan se her"
   ]
  },
  {
   "cell_type": "code",
   "execution_count": null,
   "metadata": {},
   "outputs": [],
   "source": [
    "\n",
    "a = \"a med lille\"\n",
    "A = \"A med stort\"\n",
    "\n",
    "print(a) # Skriver \"a med lille\"\n",
    "print(A) # Skriver \"A med stort\""
   ]
  },
  {
   "cell_type": "markdown",
   "metadata": {},
   "source": [
    "Man kan definere flere variabler på en linje"
   ]
  },
  {
   "cell_type": "code",
   "execution_count": null,
   "metadata": {},
   "outputs": [],
   "source": [
    "a,b,c = \"Jeg er a\\n\",\"Jeg er b\\n\",\"Jeg er c\\n\"\n",
    "\n",
    "print(a,b,c)"
   ]
  },
  {
   "cell_type": "markdown",
   "metadata": {},
   "source": [
    "### Datatyper\n",
    "\n",
    "Der findes i alt 15 datatyper i Python, delt op i et par kategorier:\n",
    "\n",
    "    Tekst Type:\tstr\n",
    "    Numeriske Typer: int, float, complex\n",
    "    Sekvens Typer:\tlist, tuple, range\n",
    "    Mapping Type:\tdict\n",
    "    Set Typer:\tset, frozenset\n",
    "    Boolean Type:\tbool\n",
    "    Binære Typer:\tbytes, bytearray, memoryview\n",
    "    None Type:\tNoneType"
   ]
  },
  {
   "cell_type": "code",
   "execution_count": 1,
   "metadata": {},
   "outputs": [],
   "source": [
    "# Tekst Type\n",
    "# Det er lige meget om man bruger \"\" eller ''. Med ``\n",
    "strDouble = \"Jeg er en streng\"\n",
    "strSingle = 'Jeg er også en streng'\n",
    "strF = f\"Hej ${strSingle} med en variable i!\"\n",
    "\n",
    "# Numerisk typer\n",
    "int = 42\n",
    "float = 42.0\n",
    "complex = 1j # Complex bruger man til komplekse tal inden for matematik\n",
    "\n",
    "# Sekvens Typer\n",
    "\n",
    "list = [\"apple\", \"banana\", \"cherry\"]\t# list minder meget om Lists i C#, vi kan gøre meget af det samme | De er sorteret og kan ændres samt tillader duplikater\n",
    "tuple = (\"apple\", \"banana\", \"cherry\")\t# Tuple i modsætning til list kan ikke ændres. Man kan stadig tilføje og fjerne elementer men ikke ændre dem\n",
    "range = range(6) \n",
    "# Range er en indbygget funktion som laver en sekvens af tal fra 0 til tallet. \n",
    "#Det kan justeres med følgende parametre range(start, stop, step). Start og step har en standart værdi på henholdvis 0 og 1. \n",
    "\n",
    "\n",
    "# Mapping Typer\n",
    "\n",
    "#dict er Dictionary som også minder om datatyper vi har set før, specielt JSON. Det er vores typiske key-value pair. \n",
    "\n",
    "dict = {\n",
    "    \"name\" : \"John\",\n",
    "    \"age\" : 36\n",
    "    }    \n",
    "\n",
    "# Set typer\n",
    "\n",
    "#Set er specielt fordi de modsat til vores sekvens usorteret, kan ikke ændres og er ikke indexeret.\n",
    "\n",
    "set = {\"apple\", \"banana\", \"cherry\"}\t\n",
    "frozenset = frozenset({\"apple\", \"banana\", \"cherry\"}) # Frozenset er det heller ikke tilladt at indsætte eller fjerne elementer, de er dermed konstante\n",
    "\n",
    "# Boolean typer\n",
    "\n",
    "## Boolean værdier virker som mange andre sprog med True og False\n",
    "\n",
    "Boolean = True\t\n",
    "\n",
    "# Binære typer \n",
    "bytesH = b\"Hello\"\t\t\n",
    "bytearray = bytearray(5)\t\t\n",
    "memoryview = memoryview(bytes(5))\t\n",
    "\n",
    "# None Typer\n",
    "noneType = None\t"
   ]
  },
  {
   "cell_type": "markdown",
   "metadata": {},
   "source": [
    "## Kontrolstruktur | kontrolflow\n",
    "\n",
    "Python har samme kontrolstruktur som i mange andre sprog. Herunder if, else og elseif. pr 3.10 har man også switch statements"
   ]
  },
  {
   "cell_type": "code",
   "execution_count": null,
   "metadata": {},
   "outputs": [],
   "source": [
    "if 2>1: # Python bruger ikke parenteser(), men man skriver bare en condition direkte ud\n",
    "    print(\"Sandt\") # Python bruger heller ikke {}, men derimod bare indents\n",
    "\n",
    "\n"
   ]
  }
 ],
 "metadata": {
  "kernelspec": {
   "display_name": "Python 3",
   "language": "python",
   "name": "python3"
  },
  "language_info": {
   "codemirror_mode": {
    "name": "ipython",
    "version": 3
   },
   "file_extension": ".py",
   "mimetype": "text/x-python",
   "name": "python",
   "nbconvert_exporter": "python",
   "pygments_lexer": "ipython3",
   "version": "3.11.9"
  }
 },
 "nbformat": 4,
 "nbformat_minor": 2
}
