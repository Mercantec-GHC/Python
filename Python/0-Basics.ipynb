{
 "cells": [
  {
   "cell_type": "markdown",
   "metadata": {},
   "source": [
    "# Python grundkoncepter\n",
    "\n",
    "Her har I eksempler på grundkoncepter inden for Python. Det dækker over kontrolflow, Loops og funktioner"
   ]
  },
  {
   "cell_type": "markdown",
   "metadata": {},
   "source": [
    "## Varaibler\n",
    "Python er dynamisk, det betyder at vi ikke behøver at skrive hvilken type variable som vi assigner."
   ]
  },
  {
   "cell_type": "code",
   "execution_count": null,
   "metadata": {},
   "outputs": [],
   "source": [
    "NyVariable = \"Jeg er en streng\"\n",
    "Nyt_tal = 42"
   ]
  },
  {
   "cell_type": "markdown",
   "metadata": {},
   "source": [
    "Variable er case-sensitive som man kan se her"
   ]
  },
  {
   "cell_type": "code",
   "execution_count": null,
   "metadata": {},
   "outputs": [],
   "source": [
    "\n",
    "a = \"a med lille\"\n",
    "A = \"A med stort\"\n",
    "\n",
    "print(a) # Skriver \"a med lille\"\n",
    "print(A) # Skriver \"A med stort\""
   ]
  },
  {
   "cell_type": "markdown",
   "metadata": {},
   "source": [
    "Man kan definere flere variabler på en linje"
   ]
  },
  {
   "cell_type": "code",
   "execution_count": null,
   "metadata": {},
   "outputs": [],
   "source": [
    "a,b,c = \"Jeg er a\\n\",\"Jeg er b\\n\",\"Jeg er c\\n\"\n",
    "\n",
    "print(a,b,c)"
   ]
  },
  {
   "cell_type": "markdown",
   "metadata": {},
   "source": [
    "### Datatyper\n",
    "\n",
    "Der findes i alt 15 datatyper i Python, delt op i et par kategorier:\n",
    "\n",
    "    Tekst Type:\tstr\n",
    "    Numeriske Typer: int, float, complex\n",
    "    Sekvens Typer:\tlist, tuple, range\n",
    "    Mapping Type:\tdict\n",
    "    Set Typer:\tset, frozenset\n",
    "    Boolean Type:\tbool\n",
    "    Binære Typer:\tbytes, bytearray, memoryview\n",
    "    None Type:\tNoneType"
   ]
  },
  {
   "cell_type": "code",
   "execution_count": 1,
   "metadata": {},
   "outputs": [],
   "source": [
    "# Tekst Type\n",
    "# Det er lige meget om man bruger \"\" eller ''. Med ``\n",
    "strDouble = \"Jeg er en streng\"\n",
    "strSingle = 'Jeg er også en streng'\n",
    "strF = f\"Hej ${strSingle} med en variable i!\"\n",
    "\n",
    "# Numerisk typer\n",
    "int = 42\n",
    "float = 42.0\n",
    "complex = 1j # Complex bruger man til komplekse tal inden for matematik\n",
    "\n",
    "# Sekvens Typer\n",
    "\n",
    "list = [\"apple\", \"banana\", \"cherry\"]\t# list minder meget om Lists i C#, vi kan gøre meget af det samme | De er sorteret og kan ændres samt tillader duplikater\n",
    "tuple = (\"apple\", \"banana\", \"cherry\")\t# Tuple i modsætning til list kan ikke ændres. Man kan stadig tilføje og fjerne elementer men ikke ændre dem\n",
    "range = range(6) \n",
    "# Range er en indbygget funktion som laver en sekvens af tal fra 0 til tallet. \n",
    "#Det kan justeres med følgende parametre range(start, stop, step). Start og step har en standart værdi på henholdvis 0 og 1. \n",
    "\n",
    "\n",
    "# Mapping Typer\n",
    "\n",
    "#dict er Dictionary som også minder om datatyper vi har set før, specielt JSON. Det er vores typiske key-value pair. \n",
    "\n",
    "dict = {\n",
    "    \"name\" : \"John\",\n",
    "    \"age\" : 36\n",
    "    }    \n",
    "\n",
    "# Set typer\n",
    "\n",
    "#Set er specielt fordi de modsat til vores sekvens usorteret, kan ikke ændres og er ikke indexeret.\n",
    "\n",
    "set = {\"apple\", \"banana\", \"cherry\"}\t\n",
    "# Frozenset er det heller ikke tilladt at indsætte eller fjerne elementer, de er dermed konstante\n",
    "frozenset = frozenset({\"apple\", \"banana\", \"cherry\"}) \n",
    "\n",
    "# Boolean typer\n",
    "\n",
    "## Boolean værdier virker som mange andre sprog med True og False\n",
    "\n",
    "Boolean = True\t\n",
    "\n",
    "# Binære typer \n",
    "bytesH = b\"Hello\"\t\t\n",
    "bytearray = bytearray(5)\t\t\n",
    "memoryview = memoryview(bytes(5))\t\n",
    "\n",
    "# None Typer\n",
    "noneType = None\t"
   ]
  },
  {
   "cell_type": "markdown",
   "metadata": {},
   "source": [
    "## Kontrolstruktur | kontrolflow\n",
    "\n",
    "Python har samme kontrolstruktur som i mange andre sprog. Herunder if, else og elseif. Fra version 3.10 og frem har man også switch statements"
   ]
  },
  {
   "cell_type": "markdown",
   "metadata": {},
   "source": [
    "#### If, else og elif\n"
   ]
  },
  {
   "cell_type": "code",
   "execution_count": 3,
   "metadata": {},
   "outputs": [
    {
     "name": "stdout",
     "output_type": "stream",
     "text": [
      "320 er mindre end 330\n",
      "320 er mindre end 330\n"
     ]
    }
   ],
   "source": [
    "a = 320\n",
    "b = 330\n",
    "if a>b: # Python bruger ikke parenteser(), men man skriver bare en condition direkte ud\n",
    "    print(f\"{a} er større end {b}\") # Python bruger heller ikke {}, men derimod bare indents\n",
    "\n",
    "if a<b:\n",
    "    print(f\"{a} er mindre end {b}\")\n",
    "else:\n",
    "    print(f\"{a} er ikke mindre end {b}\")\n",
    "\n",
    "if a<b:\n",
    "    print(f\"{a} er mindre end {b}\")\n",
    "elif a==b: # Else if er lidt anderledes en andre sprog og bruger elif som kodeord\n",
    "    print(f\"{a} og {b} er ens\")\n",
    "else:\n",
    "    print(f\"{a} er ikke mindre end {b}\")"
   ]
  },
  {
   "cell_type": "markdown",
   "metadata": {},
   "source": [
    "#### Short hand if, else og elif\n",
    "\n",
    "Python har også short hand versioner af det også kaldet Ternary Operators"
   ]
  },
  {
   "cell_type": "code",
   "execution_count": 2,
   "metadata": {},
   "outputs": [
    {
     "name": "stdout",
     "output_type": "stream",
     "text": [
      "=\n"
     ]
    }
   ],
   "source": [
    "a = 330\n",
    "b = 330\n",
    "\n",
    "if a > b: print(f\"{a} er større end {b}\")\n",
    "\n",
    "# Man kan lave mere komplekse Ternary operators, som her:\n",
    "print(\"A\") if a > b else print(\"=\") if a == b else print(\"B\")"
   ]
  },
  {
   "cell_type": "markdown",
   "metadata": {},
   "source": [
    "#### Logiske operatører\n",
    "\n",
    "Der findes også logiske operatører i Python, dog anderledes fra mange andre sprog er de skrevet ud! Følgende er logiske operatører som kan bruges i Python\n",
    "```Python\n",
    "and\n",
    "or\n",
    "not\n",
    "```\n",
    "De kan bruges på følgende måde"
   ]
  },
  {
   "cell_type": "code",
   "execution_count": null,
   "metadata": {},
   "outputs": [],
   "source": [
    "a = 200\n",
    "b = 33\n",
    "c = 500\n",
    "if a > b and c > a:\n",
    "  print(\"Begge betingelser er gældene\")"
   ]
  },
  {
   "cell_type": "code",
   "execution_count": null,
   "metadata": {},
   "outputs": [],
   "source": [
    "a = 200\n",
    "b = 33\n",
    "c = 500\n",
    "if a > b or a > c:\n",
    "  print(\"Mindst en af betingelserne er gældende\")"
   ]
  },
  {
   "cell_type": "code",
   "execution_count": 4,
   "metadata": {},
   "outputs": [
    {
     "name": "stdout",
     "output_type": "stream",
     "text": [
      "33 er IKKE større end 200\n"
     ]
    }
   ],
   "source": [
    "a = 33\n",
    "b = 200\n",
    "if not a > b:\n",
    "  print(f\"{a} er IKKE større end {b}\")"
   ]
  },
  {
   "cell_type": "markdown",
   "metadata": {},
   "source": [
    "#### Switch \n",
    "\n",
    "Switch statements er standart i mange sprog, det er dog først blevet tilføjet til Python med 3.10. Man kan bruge ```match``` kodeordet til at starte ens switch statement og case til hver mulighed samt ```_``` til vores default case"
   ]
  },
  {
   "cell_type": "code",
   "execution_count": 6,
   "metadata": {},
   "outputs": [
    {
     "name": "stdout",
     "output_type": "stream",
     "text": [
      "You can become a backend developer\n"
     ]
    }
   ],
   "source": [
    "lang = input(\"What's the programming language you want to learn? \")\n",
    "\n",
    "match lang:\n",
    "    case \"JavaScript\":\n",
    "        print(\"You can become a web developer\")\n",
    "\n",
    "    case \"Python\":\n",
    "        print(\"You can become a Data Scientist or work with Machine Learning\")\n",
    "\n",
    "    case \"C#\":\n",
    "        print(\"You can become a backend developer\")\n",
    "    \n",
    "    case \"Solidity\":\n",
    "        print(\"You can become a Blockchain developer\")\n",
    "\n",
    "    case \"Kotlin\":\n",
    "        print(\"You can become a mobile app developer\")\n",
    "\n",
    "    case _:\n",
    "        print(\"The language doesn't matter, what matters is solving problems.\")"
   ]
  },
  {
   "cell_type": "markdown",
   "metadata": {},
   "source": [
    "## Loops - For & While "
   ]
  },
  {
   "cell_type": "markdown",
   "metadata": {},
   "source": [
    "## Datatyper - Lists, Tuples, Sets & Dictionaries\n",
    "\n",
    "Vi har allerede dækket en smule om variabler og nævnt datatyperne, men vi dykker lige lidt ned i de 4 datatyper som vi komme til at bruge mest i standart Python!\n",
    "\n",
    "> \n",
    "> Som man kan se dækker basis Python ikke over arrays, det er fordi vi skal bruge NumPy til at arbejde med arrays! Dem dækker vi under kapitel 1 - [NumPy](./1-NumPy.ipynb)"
   ]
  },
  {
   "cell_type": "markdown",
   "metadata": {},
   "source": [
    "## Funktioner - Recursion & Lambda"
   ]
  }
 ],
 "metadata": {
  "kernelspec": {
   "display_name": "Python 3",
   "language": "python",
   "name": "python3"
  },
  "language_info": {
   "codemirror_mode": {
    "name": "ipython",
    "version": 3
   },
   "file_extension": ".py",
   "mimetype": "text/x-python",
   "name": "python",
   "nbconvert_exporter": "python",
   "pygments_lexer": "ipython3",
   "version": "3.11.9"
  }
 },
 "nbformat": 4,
 "nbformat_minor": 2
}
