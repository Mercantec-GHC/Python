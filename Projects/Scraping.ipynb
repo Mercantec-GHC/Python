{
 "cells": [
  {
   "cell_type": "markdown",
   "metadata": {},
   "source": [
    "# Webscraping med [Selenuim](https://www.selenium.dev/) eller [Beautifulsoup4](https://pypi.org/project/beautifulsoup4/)\n",
    "\n"
   ]
  },
  {
   "cell_type": "code",
   "execution_count": null,
   "metadata": {},
   "outputs": [],
   "source": []
  }
 ],
 "metadata": {
  "language_info": {
   "name": "python"
  }
 },
 "nbformat": 4,
 "nbformat_minor": 2
}
