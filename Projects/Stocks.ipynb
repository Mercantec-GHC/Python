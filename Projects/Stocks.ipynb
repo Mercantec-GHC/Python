{
 "cells": [
  {
   "cell_type": "markdown",
   "metadata": {},
   "source": [
    "# Aktie analyse\n",
    "\n",
    "Beregn på aktie med semilive api - [yfinance](https://pypi.org/project/yfinance/)! \n",
    "\n",
    "Krav til opgaven - "
   ]
  },
  {
   "cell_type": "markdown",
   "metadata": {},
   "source": [
    "Pakker som rådgives til at løse opgaven"
   ]
  },
  {
   "cell_type": "code",
   "execution_count": null,
   "metadata": {},
   "outputs": [],
   "source": [
    "import numpy as np # Numpy til at arbejde med arrays\n",
    "import pandas as pd # Pandas til at lave dataframes\n",
    "from datetime import date, timedelta # Datetime til at opdele data i tidspunkter\n",
    "import yfinance as yf # Hent semi-live data med yfinance\n",
    "import matplotlib.pyplot as plt # matplotlib til at visuellisere jeres data"
   ]
  }
 ],
 "metadata": {
  "language_info": {
   "name": "python"
  }
 },
 "nbformat": 4,
 "nbformat_minor": 2
}
