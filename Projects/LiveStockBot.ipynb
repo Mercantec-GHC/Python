{
 "cells": [
  {
   "cell_type": "markdown",
   "metadata": {},
   "source": [
    "# Live trading bot på dummydata\n",
    "\n",
    "Opsæt 2-3 bots som trader på forskellige algoritmer. I må selvfølgelig gerne \n",
    "\n"
   ]
  },
  {
   "cell_type": "code",
   "execution_count": null,
   "metadata": {},
   "outputs": [],
   "source": []
  }
 ],
 "metadata": {
  "language_info": {
   "name": "python"
  }
 },
 "nbformat": 4,
 "nbformat_minor": 2
}
