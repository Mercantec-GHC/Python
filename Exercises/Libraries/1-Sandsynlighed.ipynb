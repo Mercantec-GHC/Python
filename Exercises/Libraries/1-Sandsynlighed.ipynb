{
 "cells": [
  {
   "cell_type": "markdown",
   "metadata": {},
   "source": [
    "# Sandsynlighed - Visualisere chancer og tilfældig data\n",
    "Python er rigtig go' til at arbejde med data. Inden vi begynder at arbejde med kompleks og rigtig data. Brug vi vores biblioteker til at analysere og visualiserer noget tilfældigt data!"
   ]
  },
  {
   "cell_type": "markdown",
   "metadata": {},
   "source": [
    "## 2-terninger\n",
    "\n",
    "Vi skal lave et program som simulere at vi slår med 2 terninger. Indsamle alt data og stil det op i et diagram samt et heatmap"
   ]
  },
  {
   "cell_type": "code",
   "execution_count": null,
   "metadata": {},
   "outputs": [],
   "source": []
  }
 ],
 "metadata": {
  "language_info": {
   "name": "python"
  }
 },
 "nbformat": 4,
 "nbformat_minor": 2
}
