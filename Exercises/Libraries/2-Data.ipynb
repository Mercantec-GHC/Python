{
 "cells": [
  {
   "cell_type": "markdown",
   "metadata": {},
   "source": [
    "# Arbejd med CSV filer og rigtig data\n",
    "\n",
    "Vi har arbejdet lidt med tilfældig generet data"
   ]
  },
  {
   "cell_type": "markdown",
   "metadata": {},
   "source": [
    "### Netflix\n",
    "\n",
    "Nedenfor ser I kode som kan læse fra filen [netflix_titles.csv](../../Data/netflix_titles.csv)\n",
    "\n",
    "Brug jeres viden indenfor Numpy, Pandas og Matplotlib til at få et overblik over jeres data. Bagefter skal I løse følgende opgaver\n",
    "1.  Der er ekstra elementer i vores data som medføre en masse NaN værdier, dem skal vi have fjernet!\n",
    "2.  Lav et diagram som viser hvor stor en del af data-sættet er film (Movie) og hvor mange som er serier (TV Show). Hvilket diagram er bedst til at vise denne type data?\n",
    "3.  Lav et diagram over hvilke lande som har flest film og serier på Netflix? Er Danmark i top 10, hvis ikke hvor er vi placeret?\n"
   ]
  },
  {
   "cell_type": "code",
   "execution_count": 8,
   "metadata": {},
   "outputs": [
    {
     "name": "stdout",
     "output_type": "stream",
     "text": [
      "Headers:\n",
      "show_id,type,title,director,cast,country,date_added,release_year,rating,duration,listed_in,description,,,,,,,,,,,,,,\n"
     ]
    }
   ],
   "source": [
    "import csv\n",
    "\n",
    "netflix = \"../../Data/netflix_titles.csv\" \n",
    "\n",
    "# Åbn filen\n",
    "with open(netflix, newline='', encoding='utf-8') as csvfile:\n",
    "    reader = csv.reader(csvfile, delimiter=';')\n",
    "\n",
    "    # Læs kun den første række, som er headeren\n",
    "    headers = next(reader)\n",
    "\n",
    "    # Udskriv headeren\n",
    "    print(\"Headers:\")\n",
    "    for header in headers:\n",
    "        print(header)\n",
    "\n",
    "# Der er en masse trailing kommaer, hvad gør det? Skal vi bruge dem?"
   ]
  }
 ],
 "metadata": {
  "kernelspec": {
   "display_name": "Python 3",
   "language": "python",
   "name": "python3"
  },
  "language_info": {
   "codemirror_mode": {
    "name": "ipython",
    "version": 3
   },
   "file_extension": ".py",
   "mimetype": "text/x-python",
   "name": "python",
   "nbconvert_exporter": "python",
   "pygments_lexer": "ipython3",
   "version": "3.11.9"
  }
 },
 "nbformat": 4,
 "nbformat_minor": 2
}
