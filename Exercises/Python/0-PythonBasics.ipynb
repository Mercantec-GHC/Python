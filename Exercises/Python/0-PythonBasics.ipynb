{
 "cells": [
  {
   "cell_type": "markdown",
   "metadata": {},
   "source": [
    "# Python opgaver uden pakker\n",
    "\n",
    "Vi starter ud med nogle små opgaver uden pakker, her bruger vi bare helt generelle programmeringskoncepter som allerede er indbygget i Python.\n",
    "\n",
    "Der er i alt 7 opgaver, som man skal løse inden man kan gå til opgaverne som gør brug af Python pakker."
   ]
  },
  {
   "cell_type": "markdown",
   "metadata": {},
   "source": [
    "### 1. Primtal\n",
    "\n",
    "Lav en funktion som kan lave de 1000 første primtal \n",
    "<details>\n",
    "<summary>Hints </summary>\n",
    "\n",
    "</details>\n"
   ]
  },
  {
   "cell_type": "code",
   "execution_count": null,
   "metadata": {},
   "outputs": [],
   "source": []
  }
 ],
 "metadata": {
  "language_info": {
   "name": "python"
  }
 },
 "nbformat": 4,
 "nbformat_minor": 2
}
